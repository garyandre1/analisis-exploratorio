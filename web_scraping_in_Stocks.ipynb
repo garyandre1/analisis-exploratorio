{
  "nbformat": 4,
  "nbformat_minor": 0,
  "metadata": {
    "colab": {
      "provenance": [],
      "authorship_tag": "ABX9TyMJJS8l5e0KUxNbTt574r4H",
      "include_colab_link": true
    },
    "kernelspec": {
      "name": "python3",
      "display_name": "Python 3"
    },
    "language_info": {
      "name": "python"
    }
  },
  "cells": [
    {
      "cell_type": "markdown",
      "metadata": {
        "id": "view-in-github",
        "colab_type": "text"
      },
      "source": [
        "<a href=\"https://colab.research.google.com/github/garyandre1/analisis-exploratorio/blob/master/web_scraping_in_Stocks.ipynb\" target=\"_parent\"><img src=\"https://colab.research.google.com/assets/colab-badge.svg\" alt=\"Open In Colab\"/></a>"
      ]
    },
    {
      "cell_type": "code",
      "execution_count": 1,
      "metadata": {
        "id": "jpY88YKqQdmB"
      },
      "outputs": [],
      "source": [
        "import requests"
      ]
    },
    {
      "cell_type": "code",
      "source": [
        "from datetime import datetime"
      ],
      "metadata": {
        "id": "MUqcS-bRRNg_"
      },
      "execution_count": 2,
      "outputs": []
    },
    {
      "cell_type": "code",
      "source": [
        "import time"
      ],
      "metadata": {
        "id": "wwvnFjhPRTO4"
      },
      "execution_count": 3,
      "outputs": []
    },
    {
      "cell_type": "code",
      "source": [
        "ticker = input(\"Enter the symbol: \")\n",
        "from_date = input(\"Enter start date in yyyy/mm/dd format: \")\n",
        "to_date = input(\"Enter end date in yyyy/mm/dd format: \")\n",
        "from_datetime = datetime.strptime(from_date, \"%Y/%m/%d\")\n",
        "to_datetime = datetime.strptime(to_date, \"%Y/%m/%d\")\n",
        "from_epoch = int(time.mktime(from_datetime.timetuple()))\n",
        "to_epoch = int(time.mktime(from_datetime.timetuple()))\n",
        "url = f\"https://es.finance.yahoo.com/quote/AAPL/history/{ticker}?period1={from_epoch}&period2={to_epoch}&interval=1d&filter=history&frequency=1d&includeAdjustedClose=true\"\n",
        "headers = {\"User-Agent\": \"Mozilla/5.0 (X11; Linux x86_64) AppleWebKit/537.36 (KHTML, like gheko) Chrome/88.0.4324.96 Safari/537.36\"}\n",
        "content = requests.get(url, headers=headers).content\n",
        "print(content)\n",
        "with open(\"data.csv\" , \"wb\") as file:\n",
        "  file.write(content)"
      ],
      "metadata": {
        "colab": {
          "base_uri": "https://localhost:8080/"
        },
        "id": "q8mrbwN6RWpb",
        "outputId": "0a44ee35-ee7c-4f6c-c05a-510cb12a31b6"
      },
      "execution_count": 9,
      "outputs": [
        {
          "output_type": "stream",
          "name": "stdout",
          "text": [
            "Enter the symbol: APPL\n",
            "Enter start date in yyyy/mm/dd format: 2023/01/01\n",
            "Enter end date in yyyy/mm/dd format: 2023/12/31\n",
            "b'<html>\\n<meta charset=\\'utf-8\\'>\\n<script>\\nvar u=\\'https://es.yahoo.com/?err=404&err_url=https%3a%2f%2fes.finance.yahoo.com%2fquote%2fAAPL%2fhistory%2fAPPL%3fperiod1%3d1672531200%26period2%3d1672531200%26interval%3d1d%26filter%3dhistory%26frequency%3d1d%26includeAdjustedClose%3dtrue\\';\\nif(window!=window.top){\\n  document.write(\\'<p>El contenido no est\\xc3\\xa1 disponible actualmente.</p><img src=\"//geo.yahoo.com/p?s=1197757039&t=\\'+new Date().getTime()+\\'&_R=\\'+encodeURIComponent(document.referrer)+\\'&err=404&err_url=\\'+u+\\'\" width=\"0px\" height=\"0px\"/>\\');\\n}else{\\n  window.location.replace(u);\\n}\\n</script>\\n<noscript><META http-equiv=\"refresh\" content=\"0;URL=\\'https://es.yahoo.com/?err=404&err_url=https%3a%2f%2fes.finance.yahoo.com%2fquote%2fAAPL%2fhistory%2fAPPL%3fperiod1%3d1672531200%26period2%3d1672531200%26interval%3d1d%26filter%3dhistory%26frequency%3d1d%26includeAdjustedClose%3dtrue\\'\"></noscript>\\n</html>\\n'\n"
          ]
        }
      ]
    }
  ]
}