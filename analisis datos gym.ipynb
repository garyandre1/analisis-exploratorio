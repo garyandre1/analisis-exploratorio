{
 "cells": [
  {
   "cell_type": "markdown",
   "id": "14e192c6-1b56-47ea-8e8b-7afbb0e6ddc8",
   "metadata": {},
   "source": [
    "manipulacion de CSV con DataFrame de Pandas"
   ]
  },
  {
   "cell_type": "markdown",
   "id": "6cfe35de-8e30-4e9d-8bc5-9e9d2d013c62",
   "metadata": {},
   "source": [
    "Vamos a leer el archivo del gimnasio"
   ]
  },
  {
   "cell_type": "code",
   "execution_count": 1,
   "id": "b1e961ac-5542-4c45-ab76-3b500b99caf4",
   "metadata": {},
   "outputs": [],
   "source": [
    "import pandas as pd"
   ]
  },
  {
   "cell_type": "code",
   "execution_count": 6,
   "id": "0897eddd-3cf6-4c3c-a843-29aa4ab72b64",
   "metadata": {},
   "outputs": [],
   "source": [
    "datosgym = pd.read_csv(\"datos_gimnasio.csv\")\n"
   ]
  },
  {
   "cell_type": "markdown",
   "id": "7d1c9c3c-1303-479d-9e38-21aa11d88a84",
   "metadata": {},
   "source": [
    "Ahora mostraremos el DF"
   ]
  },
  {
   "cell_type": "code",
   "execution_count": 14,
   "id": "cf33d841-1a3b-42ca-84c7-7a947cbf99c8",
   "metadata": {},
   "outputs": [
    {
     "data": {
      "text/plain": [
       "<bound method NDFrame.head of        Codigo Género    Peso  Cintura  Pulso  Flexiones  Squad  Saltos\n",
       "0    usuario1      M   86.64    91.44     50          5    162      60\n",
       "1    usuario2      M   85.73    93.98     52          2    110      60\n",
       "2    usuario3      M   87.54    96.52     58         12    101     101\n",
       "3    usuario4      F   73.48    88.90     62         12    105      37\n",
       "4    usuario5      M   85.73    88.90     46         13    155      58\n",
       "5    usuario6      F   82.55    91.44     56          4    101      42\n",
       "6    usuario7      M   95.71    96.52     56          8    101      38\n",
       "7    usuario8      F   75.75    86.36     60          6    125      40\n",
       "8    usuario9      F   79.83    78.74     74         15    200      40\n",
       "9   usuario10      F   69.85    83.82     56         17    251     250\n",
       "10  usuario11      M   76.66    86.36     50         17    120      38\n",
       "11  usuario12      F   75.30    83.82     52         13    210     115\n",
       "12  usuario13      F   69.85    86.36     64         14    215     105\n",
       "13  usuario14      M  112.04   116.84     50          1     50      50\n",
       "14  usuario15      F   87.54    91.44     46          6     70      31\n",
       "15  usuario16      M   91.63    93.98     62         12    210     120\n",
       "16  usuario17      F   79.83    93.98     54          4     60      25\n",
       "17  usuario18      M   71.21    81.28     52         11    230      80\n",
       "18  usuario19      F   70.76    83.82     54         15    225      73\n",
       "19  usuario20      F   62.60    83.82     68          2    110      43>"
      ]
     },
     "execution_count": 14,
     "metadata": {},
     "output_type": "execute_result"
    }
   ],
   "source": [
    "datosgym.head"
   ]
  },
  {
   "cell_type": "markdown",
   "id": "04c2d5ed-d6f6-4e10-8c6e-a232315d5d88",
   "metadata": {},
   "source": [
    "Vamos a modificar los encabezados del data frame"
   ]
  },
  {
   "cell_type": "code",
   "execution_count": 10,
   "id": "fa4d4a03-8ec1-4e35-85dd-9a58bb15f77f",
   "metadata": {},
   "outputs": [],
   "source": [
    "datosgym.columns=[\"Codigo\",\"Género\",\"Peso\",\"Cintura\", \"Pulso\", \"Flexiones\",\"Squad\",\"Saltos\"]"
   ]
  },
  {
   "cell_type": "code",
   "execution_count": 11,
   "id": "2745e7b4-42c3-45a2-b1f4-ee28da9eac50",
   "metadata": {},
   "outputs": [
    {
     "data": {
      "text/html": [
       "<div>\n",
       "<style scoped>\n",
       "    .dataframe tbody tr th:only-of-type {\n",
       "        vertical-align: middle;\n",
       "    }\n",
       "\n",
       "    .dataframe tbody tr th {\n",
       "        vertical-align: top;\n",
       "    }\n",
       "\n",
       "    .dataframe thead th {\n",
       "        text-align: right;\n",
       "    }\n",
       "</style>\n",
       "<table border=\"1\" class=\"dataframe\">\n",
       "  <thead>\n",
       "    <tr style=\"text-align: right;\">\n",
       "      <th></th>\n",
       "      <th>Codigo</th>\n",
       "      <th>Género</th>\n",
       "      <th>Peso</th>\n",
       "      <th>Cintura</th>\n",
       "      <th>Pulso</th>\n",
       "      <th>Flexiones</th>\n",
       "      <th>Squad</th>\n",
       "      <th>Saltos</th>\n",
       "    </tr>\n",
       "  </thead>\n",
       "  <tbody>\n",
       "    <tr>\n",
       "      <th>0</th>\n",
       "      <td>usuario1</td>\n",
       "      <td>M</td>\n",
       "      <td>86.64</td>\n",
       "      <td>91.44</td>\n",
       "      <td>50</td>\n",
       "      <td>5</td>\n",
       "      <td>162</td>\n",
       "      <td>60</td>\n",
       "    </tr>\n",
       "    <tr>\n",
       "      <th>1</th>\n",
       "      <td>usuario2</td>\n",
       "      <td>M</td>\n",
       "      <td>85.73</td>\n",
       "      <td>93.98</td>\n",
       "      <td>52</td>\n",
       "      <td>2</td>\n",
       "      <td>110</td>\n",
       "      <td>60</td>\n",
       "    </tr>\n",
       "  </tbody>\n",
       "</table>\n",
       "</div>"
      ],
      "text/plain": [
       "     Codigo Género   Peso  Cintura  Pulso  Flexiones  Squad  Saltos\n",
       "0  usuario1      M  86.64    91.44     50          5    162      60\n",
       "1  usuario2      M  85.73    93.98     52          2    110      60"
      ]
     },
     "execution_count": 11,
     "metadata": {},
     "output_type": "execute_result"
    }
   ],
   "source": [
    "datosgym.head(2)"
   ]
  },
  {
   "cell_type": "markdown",
   "id": "90eefa92-6541-4252-bafb-e960a4775172",
   "metadata": {},
   "source": [
    "Realizamos un resumen de las estadisticas de los datos"
   ]
  },
  {
   "cell_type": "code",
   "execution_count": 12,
   "id": "6bd1e60f-3a68-4303-a621-506093fd26bf",
   "metadata": {},
   "outputs": [
    {
     "data": {
      "text/html": [
       "<div>\n",
       "<style scoped>\n",
       "    .dataframe tbody tr th:only-of-type {\n",
       "        vertical-align: middle;\n",
       "    }\n",
       "\n",
       "    .dataframe tbody tr th {\n",
       "        vertical-align: top;\n",
       "    }\n",
       "\n",
       "    .dataframe thead th {\n",
       "        text-align: right;\n",
       "    }\n",
       "</style>\n",
       "<table border=\"1\" class=\"dataframe\">\n",
       "  <thead>\n",
       "    <tr style=\"text-align: right;\">\n",
       "      <th></th>\n",
       "      <th>Peso</th>\n",
       "      <th>Cintura</th>\n",
       "      <th>Pulso</th>\n",
       "      <th>Flexiones</th>\n",
       "      <th>Squad</th>\n",
       "      <th>Saltos</th>\n",
       "    </tr>\n",
       "  </thead>\n",
       "  <tbody>\n",
       "    <tr>\n",
       "      <th>count</th>\n",
       "      <td>20.000000</td>\n",
       "      <td>20.000000</td>\n",
       "      <td>20.000000</td>\n",
       "      <td>20.000000</td>\n",
       "      <td>20.000000</td>\n",
       "      <td>20.00000</td>\n",
       "    </tr>\n",
       "    <tr>\n",
       "      <th>mean</th>\n",
       "      <td>81.011500</td>\n",
       "      <td>89.916000</td>\n",
       "      <td>56.100000</td>\n",
       "      <td>9.450000</td>\n",
       "      <td>145.550000</td>\n",
       "      <td>70.30000</td>\n",
       "    </tr>\n",
       "    <tr>\n",
       "      <th>std</th>\n",
       "      <td>11.200197</td>\n",
       "      <td>8.133012</td>\n",
       "      <td>7.210373</td>\n",
       "      <td>5.286278</td>\n",
       "      <td>62.566575</td>\n",
       "      <td>51.27747</td>\n",
       "    </tr>\n",
       "    <tr>\n",
       "      <th>min</th>\n",
       "      <td>62.600000</td>\n",
       "      <td>78.740000</td>\n",
       "      <td>46.000000</td>\n",
       "      <td>1.000000</td>\n",
       "      <td>50.000000</td>\n",
       "      <td>25.00000</td>\n",
       "    </tr>\n",
       "    <tr>\n",
       "      <th>25%</th>\n",
       "      <td>72.912500</td>\n",
       "      <td>83.820000</td>\n",
       "      <td>51.500000</td>\n",
       "      <td>4.750000</td>\n",
       "      <td>101.000000</td>\n",
       "      <td>39.50000</td>\n",
       "    </tr>\n",
       "    <tr>\n",
       "      <th>50%</th>\n",
       "      <td>79.830000</td>\n",
       "      <td>88.900000</td>\n",
       "      <td>55.000000</td>\n",
       "      <td>11.500000</td>\n",
       "      <td>122.500000</td>\n",
       "      <td>54.00000</td>\n",
       "    </tr>\n",
       "    <tr>\n",
       "      <th>75%</th>\n",
       "      <td>86.865000</td>\n",
       "      <td>93.980000</td>\n",
       "      <td>60.500000</td>\n",
       "      <td>13.250000</td>\n",
       "      <td>210.000000</td>\n",
       "      <td>85.25000</td>\n",
       "    </tr>\n",
       "    <tr>\n",
       "      <th>max</th>\n",
       "      <td>112.040000</td>\n",
       "      <td>116.840000</td>\n",
       "      <td>74.000000</td>\n",
       "      <td>17.000000</td>\n",
       "      <td>251.000000</td>\n",
       "      <td>250.00000</td>\n",
       "    </tr>\n",
       "  </tbody>\n",
       "</table>\n",
       "</div>"
      ],
      "text/plain": [
       "             Peso     Cintura      Pulso  Flexiones       Squad     Saltos\n",
       "count   20.000000   20.000000  20.000000  20.000000   20.000000   20.00000\n",
       "mean    81.011500   89.916000  56.100000   9.450000  145.550000   70.30000\n",
       "std     11.200197    8.133012   7.210373   5.286278   62.566575   51.27747\n",
       "min     62.600000   78.740000  46.000000   1.000000   50.000000   25.00000\n",
       "25%     72.912500   83.820000  51.500000   4.750000  101.000000   39.50000\n",
       "50%     79.830000   88.900000  55.000000  11.500000  122.500000   54.00000\n",
       "75%     86.865000   93.980000  60.500000  13.250000  210.000000   85.25000\n",
       "max    112.040000  116.840000  74.000000  17.000000  251.000000  250.00000"
      ]
     },
     "execution_count": 12,
     "metadata": {},
     "output_type": "execute_result"
    }
   ],
   "source": [
    "datosgym.describe()"
   ]
  },
  {
   "cell_type": "markdown",
   "id": "f6b07c8b-6397-4a0b-884f-22a93923c09a",
   "metadata": {},
   "source": [
    "Realizamos una estadistica solo de mujeres 👩🏻"
   ]
  },
  {
   "cell_type": "code",
   "execution_count": 13,
   "id": "be9d607d-efe9-40fb-b9fe-a858d3bb43ae",
   "metadata": {},
   "outputs": [
    {
     "data": {
      "text/plain": [
       "count       20\n",
       "unique       2\n",
       "top       True\n",
       "freq        11\n",
       "Name: Género, dtype: object"
      ]
     },
     "execution_count": 13,
     "metadata": {},
     "output_type": "execute_result"
    }
   ],
   "source": [
    "(datosgym.Género == \"F\").describe()"
   ]
  },
  {
   "cell_type": "markdown",
   "id": "bf9b5fa5",
   "metadata": {},
   "source": [
    "Podemos leer que hay que hay 20 personas de las cuales 11 son de sexo femenino"
   ]
  },
  {
   "cell_type": "markdown",
   "id": "f1ad722c-5b9c-43e7-816c-d09df3828f57",
   "metadata": {},
   "source": [
    "Hagamos una grafica de los datos del gym 📊"
   ]
  },
  {
   "cell_type": "code",
   "execution_count": 15,
   "id": "82d8101d-a51e-470b-929e-e09fadf7f58d",
   "metadata": {},
   "outputs": [],
   "source": [
    "import matplotlib.pyplot as plt"
   ]
  },
  {
   "cell_type": "code",
   "execution_count": 16,
   "id": "83a71029-77cd-45de-9734-bcee327e7b41",
   "metadata": {},
   "outputs": [
    {
     "data": {
      "image/png": "[encoded data removed]",
      "text/plain": [
       "<Figure size 640x480 with 6 Axes>"
      ]
     },
     "metadata": {},
     "output_type": "display_data"
    }
   ],
   "source": [
    "histogram = datosgym.hist()"
   ]
  },
  {
   "cell_type": "markdown",
   "id": "6bf4b5f3",
   "metadata": {},
   "source": [
    "aca termina el analisis sencillo con pandas y con archivos csv del gimnasio. Ademas usamos matplotlib y seaborn para realizar graficas muy simples con los datos . "
   ]
  },
  {
   "cell_type": "code",
   "execution_count": 24,
   "id": "d3bdc727",
   "metadata": {},
   "outputs": [],
   "source": [
    "data = [\"Flexiones\",\"Squad\",\"Pulso\"]\n"
   ]
  },
  {
   "cell_type": "code",
   "execution_count": 25,
   "id": "c611c0c7",
   "metadata": {},
   "outputs": [
    {
     "name": "stderr",
     "output_type": "stream",
     "text": [
      "c:\\Users\\garyf\\anaconda3\\Lib\\site-packages\\seaborn\\axisgrid.py:118: UserWarning: The figure layout has changed to tight\n",
      "  self._figure.tight_layout(*args, **kwargs)\n"
     ]
    },
    {
     "data": {
      "image/png": "[encoded data removed]",
      "text/plain": [
       "<Figure size 750x750 with 12 Axes>"
      ]
     },
     "metadata": {},
     "output_type": "display_data"
    }
   ],
   "source": [
    "import seaborn as sns\n",
    "sns.pairplot(datosgym[data], height=2.5)\n",
    "\n",
    "plt.show()"
   ]
  }
 ],
 "metadata": {
  "kernelspec": {
   "display_name": "Python 3",
   "language": "python",
   "name": "python3"
  },
  "language_info": {
   "codemirror_mode": {
    "name": "ipython",
    "version": 3
   },
   "file_extension": ".py",
   "mimetype": "text/x-python",
   "name": "python",
   "nbconvert_exporter": "python",
   "pygments_lexer": "ipython3",
   "version": "3.11.5"
  }
 },
 "nbformat": 4,
 "nbformat_minor": 5
}
